{
 "cells": [
  {
   "cell_type": "code",
   "execution_count": 0,
   "metadata": {
    "application/vnd.databricks.v1+cell": {
     "cellMetadata": {
      "byteLimit": 2048000,
      "rowLimit": 10000
     },
     "inputWidgets": {},
     "nuid": "13f3ae12-ec53-453e-bcbd-35d966dad2f2",
     "showTitle": false,
     "tableResultSettingsMap": {},
     "title": ""
    }
   },
   "outputs": [
    {
     "output_type": "execute_result",
     "data": {
      "text/plain": [
       "True"
      ]
     },
     "execution_count": 31,
     "metadata": {},
     "output_type": "execute_result"
    }
   ],
   "source": [
    "s3_bucket = \"BUCKET_NAME\"\n",
    "s3_file = \"Consumer_Complaints.csv\"\n",
    "catalog = \"practice\"\n",
    "schema = \"fintech\"\n",
    "volume = \"consumer_complaints\"\n",
    "\n",
    "# Create catalog, schema, and volume\n",
    "spark.sql(f\"CREATE CATALOG IF NOT EXISTS {catalog}\")\n",
    "spark.sql(f\"CREATE SCHEMA IF NOT EXISTS {catalog}.{schema}\")\n",
    "spark.sql(f\"CREATE VOLUME IF NOT EXISTS {catalog}.{schema}.{volume}\")\n",
    "\n",
    "# Define the volume path and S3 URL\n",
    "volume_path = f\"/Volumes/{catalog}/{schema}/{volume}/\"\n",
    "s3_url = f\"s3a://{s3_bucket}/{s3_file}\"\n",
    "filename = \"consumer_complaints.csv\"\n",
    "\n",
    "# Copy the file from S3 to the volume\n",
    "dbutils.fs.cp(s3_url, volume_path + filename)"
   ]
  }
 ],
 "metadata": {
  "application/vnd.databricks.v1+notebook": {
   "computePreferences": null,
   "dashboards": [],
   "environmentMetadata": {
    "base_environment": "",
    "client": "1"
   },
   "language": "python",
   "notebookMetadata": {
    "pythonIndentUnit": 4
   },
   "notebookName": "cc-data setup",
   "widgets": {}
  },
  "language_info": {
   "name": "python"
  }
 },
 "nbformat": 4,
 "nbformat_minor": 0
}
